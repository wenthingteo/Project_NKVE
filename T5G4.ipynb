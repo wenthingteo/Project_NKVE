{
 "cells": [
  {
   "cell_type": "markdown",
   "metadata": {},
   "source": [
    "## Part 1: Finding the Golden Statue of Bastet\n"
   ]
  },
  {
   "cell_type": "code",
   "execution_count": 1,
   "metadata": {},
   "outputs": [
    {
     "name": "stdout",
     "output_type": "stream",
     "text": [
      "Algo Jones began his search in the Pyramid of Khufu...\n",
      "Visiting chamber  1\n",
      "Visiting chamber  6\n",
      "Visiting chamber  11\n",
      "Visiting chamber  12\n",
      "Visiting chamber  17\n",
      "Visiting chamber  22\n",
      "Backtracking...\n",
      "Visiting chamber  16\n",
      "Visiting chamber  21\n",
      "Backtracking...\n",
      "Visiting chamber  7\n",
      "Visiting chamber  8\n",
      "Visiting chamber  13\n",
      "Visiting chamber  18\n",
      "Visiting chamber  23\n",
      "Visiting chamber  24\n",
      "Visiting chamber  25\n",
      "Backtracking...\n",
      "Visiting chamber  9\n",
      "Visiting chamber  10\n",
      "Visiting chamber  15\n",
      "Visiting chamber  20\n",
      "Visiting chamber  19\n",
      "Visiting chamber  14\n",
      "Backtracking...\n",
      "Visiting chamber  5\n",
      "Visiting chamber  4\n",
      "Backtracking...\n",
      "Visiting chamber  3\n",
      "Visiting chamber  2\n",
      "Algo Jones successfully visited all chambers.\n",
      "Sequence of chambers visited:\n",
      " [1, 6, 11, 12, 17, 22, 16, 21, 7, 8, 13, 18, 23, 24, 25, 9, 10, 15, 20, 19, 14, 5, 4, 3, 2]\n"
     ]
    }
   ],
   "source": [
    "# Add vertices to their respective adjacency lists\n",
    "# Since it's an undirected graph, each edge connects two vertices bidirectionally,\n",
    "# so, add to both adjacency lists\n",
    "# For example, edge: (1, 2) means that 1 can go to 2 and 2 can go to 1, so add to both adjacency lists\n",
    "def addEdge(adj, x, y):\n",
    "    adj[x].append(y) # Add x to y’s list.\n",
    "    adj[y].append(x) # Add y to x's list       \n",
    "    \n",
    "def DFS(V, adj, s):\n",
    "    # Initializes all vertices as not visited \n",
    "    visited = [False for i in range(V+1)] \n",
    "\n",
    "    # Create a stack for DFS \n",
    "    # Stack is last in first out(LIFO), \n",
    "    # and since the adjacency list is filled in ascending order of chamber number,\n",
    "    # chambers with higher numbers will be popped out first.\n",
    "    stack = []        \n",
    "\n",
    "    # Create a list to keep track of visited node\n",
    "    visitedList = []\n",
    "    \n",
    "    # Record the number of chambers visited\n",
    "    count = 0\n",
    "\n",
    "    # Push the current source node to the stack\n",
    "    stack.append(s) \n",
    "    \n",
    "    while (count<V): \n",
    "        # Pop a vertex from stack\n",
    "        s = stack.pop()\n",
    "\n",
    "        # Stack may contain same vertex twice. Only appends unvisited vertex to the visitedList\n",
    "        if (not visited[s]): \n",
    "            visitedList.append(s)\n",
    "            print('Visiting chamber ',s)\n",
    "            # Update the chamber as visited\n",
    "            visited[s] = True\n",
    "            count += 1\n",
    "\n",
    "        # Get all adjacent vertices of the popped vertex s \n",
    "        allUnvisited = True\n",
    "        for node in adj[s]: \n",
    "            # If an adjacent vertex has not been visited, then push it to the stack. \n",
    "            if (not visited[node]): \n",
    "                stack.append(node)\n",
    "                allUnvisited = False \n",
    "        # If all of the adjacent vertices have been visited, backtrack to the unvisited vertex\n",
    "        if (count !=V and allUnvisited):\n",
    "            print('Backtracking...')\n",
    "        \n",
    "    # Print the sequence of chambers visited\n",
    "    print(\"Algo Jones successfully visited all chambers.\\nSequence of chambers visited:\\n\",visitedList)   \n",
    "                \n",
    "        \n",
    "V = 25  # Total 25 vertices in graph\n",
    "adj = [[] for i in range(V+1)]\n",
    "# Define all the edges in the graph\n",
    "edges = [(1,2),(1,6),(2,3),(3,8),(4,5),(5,10),(6,11),(7,8),(7,12),(8,9),(8,13),(9,10),(10,15),(11,12)\n",
    "         ,(12,17),(13,18),(14,19),(15,20),(16,17),(16,21),(17,22),(18,23),(19,20),(23,24),(24,25)]\n",
    "\n",
    "# Add edges to the adjacency lists\n",
    "for edge in edges:\n",
    "    addEdge(adj, edge[0],edge[1])\n",
    "\n",
    " \n",
    "print(\"Algo Jones began his search in the Pyramid of Khufu...\") \n",
    "DFS(V, adj, 1) # Entrance is chamber 1"
   ]
  },
  {
   "cell_type": "markdown",
   "metadata": {},
   "source": [
    "## Part 2: Checking the Chest Lock Code"
   ]
  },
  {
   "cell_type": "code",
   "execution_count": 2,
   "metadata": {},
   "outputs": [
    {
     "name": "stdout",
     "output_type": "stream",
     "text": [
      "012 013 014 015 016 017 018 019 023 024 025 026 027 028 029 034 035 036 037 038 039 045 046 047 048 049 056 057 058 059 \n",
      "067 068 069 078 079 089 123 124 125 126 127 128 129 134 135 136 137 138 139 145 146 147 148 149 156 157 158 159 167 168 \n",
      "169 178 179 189 234 235 236 237 238 239 245 246 247 248 249 256 257 258 259 267 268 269 278 279 289 345 346 347 348 349 \n",
      "356 357 358 359 367 368 369 378 379 389 456 457 458 459 467 468 469 478 479 489 567 568 569 578 579 589 678 679 689 789 \n",
      "\n",
      "Total number of combinations: 120\n"
     ]
    }
   ],
   "source": [
    "def generate_combinations():\n",
    "    count = 0\n",
    "    for i in range(10):\n",
    "        for j in range(i + 1, 10):\n",
    "            for k in range(j + 1, 10):\n",
    "                count += 1\n",
    "                print(f\"{i}{j}{k}\", end=\" \")\n",
    "                if count % 30 == 0:\n",
    "                    print() \n",
    "    print(\"\\nTotal number of combinations:\", count)\n",
    "\n",
    "generate_combinations()"
   ]
  },
  {
   "cell_type": "markdown",
   "metadata": {},
   "source": [
    "## Part 3: Choosing The Treasures"
   ]
  },
  {
   "cell_type": "code",
   "execution_count": 3,
   "metadata": {},
   "outputs": [
    {
     "name": "stdout",
     "output_type": "stream",
     "text": [
      "Selected Item                  Value($ Mil)       Weight(kg)\n",
      "The Crown of the Pharaohs      $15 Mil            3\n",
      "The Golden Mask of Osiris      $10 Mil            2\n",
      "Sceptre of Eternal Power       Priceless          5\n",
      "\n",
      "Total value in the bag: $1025 Million\n",
      "Total weight in the bag: 10 kg\n"
     ]
    }
   ],
   "source": [
    "def choosing_treasures(bag_w, item_w, value, num_items):\n",
    "\n",
    "    # Define a list of items, where each item is represented as a tuple\n",
    "    # (name, value in million dollars, weight in kilograms)\n",
    "    items = [\n",
    "        (\"Sceptre of Eternal Power\", 'Priceless', 5),\n",
    "        (\"The Eye of Horus Pendant\", 2, 0.5),\n",
    "        (\"The Ankh of Immortality\", 5, 1.5),\n",
    "        (\"The Scarab Amulet of Fortune\", 1.5, 0.2),\n",
    "        (\"The Golden Mask of Osiris\", 10, 2),\n",
    "        (\"The Crown of the Pharaohs\", 15, 3),\n",
    "        (\"The Emerald Scarab of Transformation\", 3, 2)\n",
    "    ]\n",
    "\n",
    "    # Placeholder value for 'Priceless' during calculation\n",
    "    priceless_value = 1000\n",
    "\n",
    "    # Initialize a 2D list (DP table) to store maximum values\n",
    "    K = [[0 for _ in range(bag_w + 1)] for _ in range(num_items + 1)]\n",
    "\n",
    "    # Fill the DP table using bottom-up approach\n",
    "    for i in range(num_items + 1):\n",
    "        for w in range(bag_w + 1):\n",
    "            if i == 0 or w == 0:\n",
    "                K[i][w] = 0\n",
    "            elif item_w[i - 1] <= w:\n",
    "                if value[i - 1] == 'Priceless':\n",
    "                    # Use the placeholder value for 'Priceless' only if there is enough space in the bag\n",
    "                    if item_w[i - 1] <= w:\n",
    "                        K[i][w] = max(priceless_value + K[i - 1][w - item_w[i - 1]], K[i - 1][w])\n",
    "                    else:\n",
    "                        K[i][w] = K[i - 1][w]\n",
    "                else:\n",
    "                    K[i][w] = max(value[i - 1] + K[i - 1][w - item_w[i - 1]], K[i - 1][w])\n",
    "            else:\n",
    "                # Otherwise, skip the item\n",
    "                K[i][w] = K[i - 1][w]\n",
    "                \n",
    "    # Backtrack to find the selected items\n",
    "    total_weight = bag_w\n",
    "    selected_items = []\n",
    "    for i in range(num_items,0,-1):\n",
    "        if K[i][total_weight] != K[i-1][total_weight]:\n",
    "            selected_items.append(items[i-1])\n",
    "            total_weight -= item_w[i-1]\n",
    "\n",
    "    # Print output in columns\n",
    "    selected_item_weight = 0\n",
    "    print(\"Selected Item\".ljust(30), \"Value($ Mil)\".ljust(18), \"Weight(kg)\")\n",
    "    for item in selected_items:\n",
    "        selected_item_weight += item[2]\n",
    "        # Replace placeholder value with 'Priceless' in the output\n",
    "        value_str = 'Priceless' if item[1] == 'Priceless' else f\"${item[1]} Mil\"\n",
    "        print(item[0].ljust(30), value_str.ljust(18), str(item[2]))\n",
    "\n",
    "    return (f\"\\nTotal value in the bag: ${K[num_items][bag_w]} Million\\nTotal weight in the bag: {selected_item_weight} kg\")\n",
    "\n",
    "value = ['Priceless', 2, 5, 1.5, 10, 15, 3]\n",
    "item_w = [5000, 500, 1500, 200, 2000, 3000, 2000] #Assign the Weight in grams\n",
    "bag_w = 10000 \n",
    "num_items = len(value)\n",
    "\n",
    "print(choosing_treasures(bag_w, item_w, value, num_items))\n"
   ]
  },
  {
   "cell_type": "markdown",
   "metadata": {},
   "source": [
    "## Part 4: The love letter"
   ]
  },
  {
   "cell_type": "code",
   "execution_count": 4,
   "metadata": {},
   "outputs": [
    {
     "name": "stdout",
     "output_type": "stream",
     "text": [
      "Difference: ancient -> antediluvian\n",
      "Difference: journey -> voyage\n",
      "Difference: across -> within\n",
      "Difference: civilization -> society\n"
     ]
    }
   ],
   "source": [
    "def compare_letters(file1, file2):\n",
    "    # Read the contents of the files and split into words\n",
    "    with open(file1, 'r') as f1, open(file2, 'r') as f2:\n",
    "        words1 = f1.read().split()\n",
    "        words2 = f2.read().split()\n",
    "\n",
    "    # Create a hash table for the words in the first letter\n",
    "    hash_table = {word: True for word in words1}\n",
    "\n",
    "    differences = []\n",
    "\n",
    "    # Compare words from the second letter against the hash table\n",
    "    for word in words2:\n",
    "        if word not in hash_table:\n",
    "            differences.append(word)\n",
    "\n",
    "    # Print the differences\n",
    "    for changed_word in differences:\n",
    "        original_word = find_original_word(changed_word, words1, words2)\n",
    "        print(f'Difference: {original_word} -> {changed_word}')\n",
    "\n",
    "def find_original_word(changed_word, words1, words2):\n",
    "    for index, word in enumerate(words2):\n",
    "        if word == changed_word:\n",
    "            return words1[index] if index < len(words1) else ''\n",
    "    return ''\n",
    "\n",
    "# File names\n",
    "file1 = 'letter1.txt'\n",
    "file2 = 'letter2.txt'\n",
    "\n",
    "# Compare the letters\n",
    "compare_letters(file1, file2)\n"
   ]
  },
  {
   "cell_type": "markdown",
   "metadata": {},
   "source": [
    "## Part 5: The Secret Message "
   ]
  },
  {
   "cell_type": "code",
   "execution_count": 5,
   "metadata": {},
   "outputs": [
    {
     "name": "stdout",
     "output_type": "stream",
     "text": [
      "Decoded Message: The statue is burried under a tree marked with x on Cluster Island\n"
     ]
    }
   ],
   "source": [
    "def decode(text, s):\n",
    "    result = \"\"\n",
    "\n",
    "    for char in text:\n",
    "        if char == \" \":\n",
    "            result += char\n",
    "            continue\n",
    "\n",
    "        if char.isupper():\n",
    "            result += chr((ord(char) - s - 65) % 26 + 65)\n",
    "\n",
    "        else:\n",
    "            result += chr((ord(char) - s - 97) % 26 + 97)\n",
    "\n",
    "    return result\n",
    "\n",
    "text = \"Wkh vwdwxh lv exuulhg xqghu d wuhh pdunhg zlwk a rq Foxvwhu Lvodqg\"\n",
    "s = 3\n",
    "print(\"Decoded Message: \" + decode(text, s))\n"
   ]
  },
  {
   "cell_type": "markdown",
   "metadata": {},
   "source": [
    "## Part 6: The Final Search of the Golden Statue of Bastet"
   ]
  },
  {
   "cell_type": "code",
   "execution_count": 6,
   "metadata": {},
   "outputs": [
    {
     "name": "stdout",
     "output_type": "stream",
     "text": [
      "Island Location (from Safest to Most Dangerous)\n",
      "1 Middle\n",
      "2 South\n",
      "3 West\n",
      "4 East\n",
      "5 North\n"
     ]
    }
   ],
   "source": [
    "def weighted_scoring_island(islands, weights):\n",
    "    # Hiigher score indicate more dangerous island\n",
    "    land_condition_score = islands[1]\n",
    "    wild_animals_score = islands[2]\n",
    "\n",
    "    score = (\n",
    "        weights['land_condition'] * land_condition_score +\n",
    "        weights['wild_animals'] * wild_animals_score\n",
    "    )\n",
    "\n",
    "    return score\n",
    "\n",
    "# Weight assumptions\n",
    "weights = {\n",
    "    'land_condition': 0.4,\n",
    "    'wild_animals': 0.6\n",
    "}\n",
    "\n",
    "# Input data (Location, Land condition, Wild animals)\n",
    "islands = [\n",
    "    (\"North\",5,5),\n",
    "    (\"South\",4,3),\n",
    "    (\"East\",2,5),\n",
    "    (\"West\",3,4),\n",
    "    (\"Middle\",1,1)\n",
    "]\n",
    "\n",
    "island_scores = []\n",
    "\n",
    "# Calculate the weighted score for each island\n",
    "for island in islands:\n",
    "    score = weighted_scoring_island(island, weights)\n",
    "    island_scores.append((score, island[0]))\n",
    "\n",
    "sorted_island_scores = sorted(island_scores, key=lambda x: x[0])\n",
    "\n",
    "print(\"Island Location (from Safest to Most Dangerous)\")\n",
    "i = 1\n",
    "for island in sorted_island_scores:\n",
    "    print(f\"{i} {island[1]}\")\n",
    "    i += 1"
   ]
  },
  {
   "cell_type": "markdown",
   "metadata": {},
   "source": [
    "## Part 7: Conclusion"
   ]
  },
  {
   "cell_type": "markdown",
   "metadata": {},
   "source": [
    "##### In the final chapter of Algo Jones' adventure, after decoding the secret message and carefully selecting the most valuable treasures, he sets sail for Cluster Island. On the island, he navigates through the different terrains, avoiding wild animals and overcoming various obstacles. Using his archaeological knowledge and problem-solving skills, he identifies the most promising island to search for the Golden Statue of Bastet.\n",
    "\n",
    "##### After a thorough search, Algo Jones finally discovers the statue hidden in a remote cave on the island. The statue is a magnificent artifact which is beautifully crafted. Algo Jones carefully retrieves the statue and prepares to return home, knowing that his discovery will enrich the world's understanding of ancient civilizations.\n",
    "\n",
    "##### Back home, Algo Jones presents his findings to the archaeological community, gaining recognition and acclaim for his remarkable discovery. The Golden Statue of Bastet finds its place in a museum, where it is admired by people from around the world, showcasing the rich history and culture of ancient Egypt.\n",
    "\n",
    "##### Algo Jones' adventure comes to a satisfying conclusion, but his thirst for knowledge and exploration remains unquenched. He sets his sights on new adventures, eager to uncover more secrets of the past and share them with the world.\n"
   ]
  }
 ],
 "metadata": {
  "kernelspec": {
   "display_name": "Python 3",
   "language": "python",
   "name": "python3"
  },
  "language_info": {
   "codemirror_mode": {
    "name": "ipython",
    "version": 3
   },
   "file_extension": ".py",
   "mimetype": "text/x-python",
   "name": "python",
   "nbconvert_exporter": "python",
   "pygments_lexer": "ipython3",
   "version": "3.10.11"
  }
 },
 "nbformat": 4,
 "nbformat_minor": 2
}
