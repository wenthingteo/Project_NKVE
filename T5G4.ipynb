{
 "cells": [
  {
   "cell_type": "markdown",
   "metadata": {},
   "source": [
    "## Part 1: Finding the Golden Statue of Bastet\n"
   ]
  },
  {
   "cell_type": "code",
   "execution_count": 8,
   "metadata": {},
   "outputs": [
    {
     "name": "stdout",
     "output_type": "stream",
     "text": [
      "Algo Jones began his search in the Pyramid of Khufu...\n",
      "Visiting chamber  1\n",
      "Visiting chamber  6\n",
      "Visiting chamber  11\n",
      "Visiting chamber  12\n",
      "Visiting chamber  17\n",
      "Visiting chamber  22\n",
      "Backtracking...\n",
      "Visiting chamber  16\n",
      "Visiting chamber  21\n",
      "Backtracking...\n",
      "Visiting chamber  7\n",
      "Visiting chamber  8\n",
      "Visiting chamber  13\n",
      "Visiting chamber  18\n",
      "Visiting chamber  23\n",
      "Visiting chamber  24\n",
      "Visiting chamber  25\n",
      "Backtracking...\n",
      "Visiting chamber  9\n",
      "Visiting chamber  10\n",
      "Visiting chamber  15\n",
      "Visiting chamber  20\n",
      "Visiting chamber  19\n",
      "Visiting chamber  14\n",
      "Backtracking...\n",
      "Visiting chamber  5\n",
      "Visiting chamber  4\n",
      "Backtracking...\n",
      "Visiting chamber  3\n",
      "Visiting chamber  2\n",
      "Algo Jones successfully visited all chambers.\n",
      "Sequence of chambers visited:\n",
      " [1, 6, 11, 12, 17, 22, 16, 21, 7, 8, 13, 18, 23, 24, 25, 9, 10, 15, 20, 19, 14, 5, 4, 3, 2]\n"
     ]
    }
   ],
   "source": [
    "# Add vertices to their respective adjacency lists\n",
    "# Since it's an undirected graph, each edge connects two vertices bidirectionally,\n",
    "# so, add to both adjacency lists\n",
    "# For example, edge: (1, 2) means that 1 can go to 2 and 2 can go to 1, so add to both adjacency lists\n",
    "def addEdge(adj, x, y):\n",
    "    adj[x].append(y) # Add x to y’s list.\n",
    "    adj[y].append(x) # Add y to x's list       \n",
    "    \n",
    "def DFS(V, adj, s):\n",
    "    # Initializes all vertices as not visited \n",
    "    visited = [False for i in range(V+1)] \n",
    "\n",
    "    # Create a stack for DFS \n",
    "    # Stack is last in first out(LIFO), \n",
    "    # and since the adjacency list is filled in ascending order of chamber number,\n",
    "    # chambers with higher numbers will be popped out first.\n",
    "    stack = []        \n",
    "\n",
    "    # Create a list to keep track of visited node\n",
    "    visitedList = []\n",
    "    \n",
    "    # Record the number of chambers visited\n",
    "    count = 0\n",
    "\n",
    "    # Push the current source node to the stack\n",
    "    stack.append(s) \n",
    "    \n",
    "    while (count<V): \n",
    "        # Pop a vertex from stack\n",
    "        s = stack.pop()\n",
    "\n",
    "        # Stack may contain same vertex twice. Only appends unvisited vertex to the visitedList\n",
    "        if (not visited[s]): \n",
    "            visitedList.append(s)\n",
    "            print('Visiting chamber ',s)\n",
    "            # Update the chamber as visited\n",
    "            visited[s] = True\n",
    "            count += 1\n",
    "\n",
    "        # Get all adjacent vertices of the popped vertex s \n",
    "        allUnvisited = True\n",
    "        for node in adj[s]: \n",
    "            # If an adjacent vertex has not been visited, then push it to the stack. \n",
    "            if (not visited[node]): \n",
    "                stack.append(node)\n",
    "                allUnvisited = False \n",
    "        # If all of the adjacent vertices have been visited, backtrack to the unvisited vertex\n",
    "        if (count !=V and allUnvisited):\n",
    "            print('Backtracking...')\n",
    "        \n",
    "    # Print the sequence of chambers visited\n",
    "    print(\"Algo Jones successfully visited all chambers.\\nSequence of chambers visited:\\n\",visitedList)   \n",
    "                \n",
    "        \n",
    "V = 25  # Total 25 vertices in graph\n",
    "adj = [[] for i in range(V+1)]\n",
    "# Define all the edges in the graph\n",
    "edges = [(1,2),(1,6),(2,3),(3,8),(4,5),(5,10),(6,11),(7,8),(7,12),(8,9),(8,13),(9,10),(10,15),(11,12)\n",
    "         ,(12,17),(13,18),(14,19),(15,20),(16,17),(16,21),(17,22),(18,23),(19,20),(23,24),(24,25)]\n",
    "\n",
    "# Add edges to the adjacency lists\n",
    "for edge in edges:\n",
    "    addEdge(adj, edge[0],edge[1])\n",
    "\n",
    " \n",
    "print(\"Algo Jones began his search in the Pyramid of Khufu...\") \n",
    "DFS(V, adj, 1) # Entrance is chamber 1"
   ]
  },
  {
   "cell_type": "markdown",
   "metadata": {},
   "source": [
    "## Part 2: Checking the Chest Lock Code"
   ]
  },
  {
   "cell_type": "code",
   "execution_count": 9,
   "metadata": {},
   "outputs": [
    {
     "name": "stdout",
     "output_type": "stream",
     "text": [
      "000 001 002 003 004 005 006 007 008 009 010 011 012 013 014 015 016 017 018 019 020 021 022 023 024 025 026 027 028 029 030 031 032 033 034\n",
      "035 036 037 038 039 040 041 042 043 044 045 046 047 048 049 050 051 052 053 054 055 056 057 058 059 060 061 062 063 064 065 066 067 068 069\n",
      "070 071 072 073 074 075 076 077 078 079 080 081 082 083 084 085 086 087 088 089 090 091 092 093 094 095 096 097 098 099 100 101 102 103 104\n",
      "105 106 107 108 109 110 111 112 113 114 115 116 117 118 119 120 121 122 123 124 125 126 127 128 129 130 131 132 133 134 135 136 137 138 139\n",
      "140 141 142 143 144 145 146 147 148 149 150 151 152 153 154 155 156 157 158 159 160 161 162 163 164 165 166 167 168 169 170 171 172 173 174\n",
      "175 176 177 178 179 180 181 182 183 184 185 186 187 188 189 190 191 192 193 194 195 196 197 198 199 200 201 202 203 204 205 206 207 208 209\n",
      "210 211 212 213 214 215 216 217 218 219 220 221 222 223 224 225 226 227 228 229 230 231 232 233 234 235 236 237 238 239 240 241 242 243 244\n",
      "245 246 247 248 249 250 251 252 253 254 255 256 257 258 259 260 261 262 263 264 265 266 267 268 269 270 271 272 273 274 275 276 277 278 279\n",
      "280 281 282 283 284 285 286 287 288 289 290 291 292 293 294 295 296 297 298 299 300 301 302 303 304 305 306 307 308 309 310 311 312 313 314\n",
      "315 316 317 318 319 320 321 322 323 324 325 326 327 328 329 330 331 332 333 334 335 336 337 338 339 340 341 342 343 344 345 346 347 348 349\n",
      "350 351 352 353 354 355 356 357 358 359 360 361 362 363 364 365 366 367 368 369 370 371 372 373 374 375 376 377 378 379 380 381 382 383 384\n",
      "385 386 387 388 389 390 391 392 393 394 395 396 397 398 399 400 401 402 403 404 405 406 407 408 409 410 411 412 413 414 415 416 417 418 419\n",
      "420 421 422 423 424 425 426 427 428 429 430 431 432 433 434 435 436 437 438 439 440 441 442 443 444 445 446 447 448 449 450 451 452 453 454\n",
      "455 456 457 458 459 460 461 462 463 464 465 466 467 468 469 470 471 472 473 474 475 476 477 478 479 480 481 482 483 484 485 486 487 488 489\n",
      "490 491 492 493 494 495 496 497 498 499 500 501 502 503 504 505 506 507 508 509 510 511 512 513 514 515 516 517 518 519 520 521 522 523 524\n",
      "525 526 527 528 529 530 531 532 533 534 535 536 537 538 539 540 541 542 543 544 545 546 547 548 549 550 551 552 553 554 555 556 557 558 559\n",
      "560 561 562 563 564 565 566 567 568 569 570 571 572 573 574 575 576 577 578 579 580 581 582 583 584 585 586 587 588 589 590 591 592 593 594\n",
      "595 596 597 598 599 600 601 602 603 604 605 606 607 608 609 610 611 612 613 614 615 616 617 618 619 620 621 622 623 624 625 626 627 628 629\n",
      "630 631 632 633 634 635 636 637 638 639 640 641 642 643 644 645 646 647 648 649 650 651 652 653 654 655 656 657 658 659 660 661 662 663 664\n",
      "665 666 667 668 669 670 671 672 673 674 675 676 677 678 679 680 681 682 683 684 685 686 687 688 689 690 691 692 693 694 695 696 697 698 699\n",
      "700 701 702 703 704 705 706 707 708 709 710 711 712 713 714 715 716 717 718 719 720 721 722 723 724 725 726 727 728 729 730 731 732 733 734\n",
      "735 736 737 738 739 740 741 742 743 744 745 746 747 748 749 750 751 752 753 754 755 756 757 758 759 760 761 762 763 764 765 766 767 768 769\n",
      "770 771 772 773 774 775 776 777 778 779 780 781 782 783 784 785 786 787 788 789 790 791 792 793 794 795 796 797 798 799 800 801 802 803 804\n",
      "805 806 807 808 809 810 811 812 813 814 815 816 817 818 819 820 821 822 823 824 825 826 827 828 829 830 831 832 833 834 835 836 837 838 839\n",
      "840 841 842 843 844 845 846 847 848 849 850 851 852 853 854 855 856 857 858 859 860 861 862 863 864 865 866 867 868 869 870 871 872 873 874\n",
      "875 876 877 878 879 880 881 882 883 884 885 886 887 888 889 890 891 892 893 894 895 896 897 898 899 900 901 902 903 904 905 906 907 908 909\n",
      "910 911 912 913 914 915 916 917 918 919 920 921 922 923 924 925 926 927 928 929 930 931 932 933 934 935 936 937 938 939 940 941 942 943 944\n",
      "945 946 947 948 949 950 951 952 953 954 955 956 957 958 959 960 961 962 963 964 965 966 967 968 969 970 971 972 973 974 975 976 977 978 979\n",
      "980 981 982 983 984 985 986 987 988 989 990 991 992 993 994 995 996 997 998 999\n",
      "\n",
      "Total number of combinations: 1000\n"
     ]
    }
   ],
   "source": [
    "def generate_combinations():\n",
    "    total_combinations = 0\n",
    "    combinations = []\n",
    "\n",
    "    combination = [0, 0, 0]\n",
    "\n",
    "    while combination != [9, 9, 9]:\n",
    "        combinations.append(tuple(combination))\n",
    "        total_combinations += 1\n",
    "\n",
    "        for i in range(2, -1, -1):\n",
    "            if combination[i] < 9:\n",
    "                combination[i] += 1\n",
    "                break\n",
    "            else:\n",
    "                combination[i] = 0\n",
    "\n",
    "        if total_combinations % 35 == 0:\n",
    "            process_combinations(combinations)\n",
    "            combinations = []\n",
    "\n",
    "    combinations.append((9, 9, 9))\n",
    "    total_combinations += 1\n",
    "    process_combinations(combinations)\n",
    "\n",
    "    return total_combinations\n",
    "\n",
    "def process_combinations(combinations):\n",
    "    print(\" \".join(\"\".join(str(digit) for digit in combination) for combination in combinations))\n",
    "\n",
    "total_combinations = generate_combinations()\n",
    "print(\"\\nTotal number of combinations:\", total_combinations)"
   ]
  },
  {
   "cell_type": "markdown",
   "metadata": {},
   "source": [
    "## Part 3: Choosing The Treasures"
   ]
  },
  {
   "cell_type": "code",
   "execution_count": 10,
   "metadata": {},
   "outputs": [
    {
     "name": "stdout",
     "output_type": "stream",
     "text": [
      "Selected Item                  Value              Weight(kg)\n",
      "The Crown of the Pharaohs      $15 Million        3\n",
      "The Golden Mask of Osiris      $10 Million        2\n",
      "Sceptre of Eternal Power       Priceless          5\n",
      "\n",
      "Total value in the bag: $10025 Million\n",
      "Total weight in the bag: 10 kg\n"
     ]
    }
   ],
   "source": [
    "def choosing_treasures(bag_c, item_w, value, num_items):\n",
    "\n",
    "    # Define a list of items, where each item is represented as a tuple\n",
    "    # (name, value in million dollars, weight in kilograms)\n",
    "    items = [\n",
    "        (\"Sceptre of Eternal Power\", 'Priceless', 5),\n",
    "        (\"The Eye of Horus Pendant\", 2, 0.5),\n",
    "        (\"The Ankh of Immortality\", 5, 1.5),\n",
    "        (\"The Scarab Amulet of Fortune\", 1.5, 0.2),\n",
    "        (\"The Golden Mask of Osiris\", 10, 2),\n",
    "        (\"The Crown of the Pharaohs\", 15, 3),\n",
    "        (\"The Emerald Scarab of Transformation\", 3, 2)\n",
    "    ]\n",
    "\n",
    "    # Placeholder value for 'Priceless' during calculation\n",
    "    priceless_value = 10000\n",
    "\n",
    "    # Initialize a 2D list (DP table) to store maximum values\n",
    "    K = [[0 for _ in range(bag_c + 1)] for _ in range(num_items + 1)]\n",
    "\n",
    "    # Fill the DP table using bottom-up approach\n",
    "    for i in range(num_items + 1):\n",
    "        for w in range(bag_c + 1):\n",
    "            if i == 0 or w == 0:\n",
    "                K[i][w] = 0\n",
    "            elif item_w[i - 1] <= w:\n",
    "                if value[i - 1] == 'Priceless':\n",
    "                    # Use the placeholder value for 'Priceless' only if there is enough space in the bag\n",
    "                    if item_w[i - 1] <= w:\n",
    "                        K[i][w] = max(priceless_value + K[i - 1][w - item_w[i - 1]], K[i - 1][w])\n",
    "                    else:\n",
    "                        K[i][w] = K[i - 1][w]\n",
    "                else:\n",
    "                    K[i][w] = max(value[i - 1] + K[i - 1][w - item_w[i - 1]], K[i - 1][w])\n",
    "            else:\n",
    "                # Otherwise, skip the item\n",
    "                K[i][w] = K[i - 1][w]\n",
    "                \n",
    "    # Backtrack to find the selected items\n",
    "    total_weight = bag_c\n",
    "    selected_items = []\n",
    "    for i in range(num_items,0,-1):\n",
    "        if K[i][total_weight] != K[i-1][total_weight]:\n",
    "            selected_items.append(items[i-1])\n",
    "            total_weight -= item_w[i-1]\n",
    "\n",
    "    # Print output in columns\n",
    "    selected_item_weight = 0\n",
    "    print(\"Selected Item\".ljust(30), \"Value\".ljust(18), \"Weight(kg)\")\n",
    "    for item in selected_items:\n",
    "        selected_item_weight += item[2]\n",
    "        # Replace placeholder value with 'Priceless' in the output\n",
    "        value_str = 'Priceless' if item[1] == 'Priceless' else f\"${item[1]} Million\"\n",
    "        print(item[0].ljust(30), value_str.ljust(18), str(item[2]))\n",
    "\n",
    "    return (f\"\\nTotal value in the bag: ${K[num_items][bag_c]} Million\\nTotal weight in the bag: {selected_item_weight} kg\")\n",
    "\n",
    "value = ['Priceless', 2, 5, 1.5, 10, 15, 3]\n",
    "item_w = [5000, 500, 1500, 200, 2000, 3000, 2000] #Assign the Weight in grams\n",
    "bag_c = 10000 \n",
    "num_items = len(value)\n",
    "\n",
    "print(choosing_treasures(bag_c, item_w, value, num_items))\n"
   ]
  },
  {
   "cell_type": "markdown",
   "metadata": {},
   "source": [
    "## Part 4: The love letter"
   ]
  },
  {
   "cell_type": "code",
   "execution_count": 1,
   "metadata": {},
   "outputs": [
    {
     "name": "stdout",
     "output_type": "stream",
     "text": [
      "Different words between letter 1 and letter 2:\n",
      "Changed 'ancient' to 'antediluvian'\n",
      "Changed 'journey' to 'voyage'\n",
      "Changed 'across' to 'within'\n",
      "Changed 'civilization' to 'society'\n"
     ]
    }
   ],
   "source": [
    "def myers_diff(letter_1, letter_2):\n",
    "    # Split text into words\n",
    "    words_1 = letter_1.split()\n",
    "    words_2 = letter_2.split()\n",
    "    \n",
    "    # Initialize the matrix\n",
    "    rows = len(words_1) + 1\n",
    "    cols = len(words_2) + 1\n",
    "    dp = [[0] * cols for _ in range(rows)]\n",
    "    \n",
    "    # Fill in the matrix\n",
    "    for i in range(1, rows):\n",
    "        for j in range(1, cols):\n",
    "            if words_1[i - 1] == words_2[j - 1]:\n",
    "                dp[i][j] = dp[i - 1][j - 1] + 1\n",
    "            else:\n",
    "                dp[i][j] = max(dp[i - 1][j], dp[i][j - 1])\n",
    "    \n",
    "    # Traceback to find the differences\n",
    "    i, j = rows - 1, cols - 1\n",
    "    differences = []\n",
    "    while i > 0 or j > 0:\n",
    "        if i > 0 and j > 0 and words_1[i - 1] == words_2[j - 1]:\n",
    "            i -= 1\n",
    "            j -= 1\n",
    "        else:\n",
    "            differences.append(f\"Changed '{words_1[i - 1]}' to '{words_2[j - 1]}'\")\n",
    "            i -= 1\n",
    "            j -= 1\n",
    "            \n",
    "    # Reverse to get correct order\n",
    "    return differences[::-1]  \n",
    "\n",
    "# Implementation\n",
    "letter_1 = \"To My Dearest Nefertari,\\nAs I sit here amidst the grandeur of this ancient pyramid, surrounded by the whispers of the past, my thoughts turn to you, my beloved. Though miles may separate us, know that you are always in my heart, a beacon of light guiding me through the darkness of the unknown.\\nAs I embark on this journey into the depths of the pyramid, I am filled with a mixture of excitement and trepidation. The allure of uncovering ancient secrets and treasures beckons me forward, but with each step I take, I am reminded of the risks that accompany such endeavors.\\nI cannot help but think of the life we have built together, the moments of joy and laughter we have shared, and the love that binds us together across time and space. It is your unwavering support and encouragement that give me strength in the face of uncertainty, and for that, I am eternally grateful.\\nThough the sands of time may have long since buried the civilization that built this magnificent structure, I find solace in the knowledge that our love transcends the ages, a timeless testament to the power of the human spirit.\\nUntil we are reunited once more, know that you are always with me, guiding me through the labyrinth of life with your love and light.\\nWith all my heart,\\nYour devoted.\"\n",
    "letter_2 = \"To My Dearest Nefertari,\\nAs I sit here amidst the grandeur of this antediluvian pyramid, surrounded by the whispers of the past, my thoughts turn to you, my beloved. Though miles may separate us, know that you are always in my heart, a beacon of light guiding me through the darkness of the unknown.\\nAs I embark on this voyage into the depths of the pyramid, I am filled with a mixture of excitement and trepidation. The allure of uncovering ancient secrets and treasures beckons me forward, but with each step I take, I am reminded of the risks that accompany such endeavors.\\nI cannot help but think of the life we have built together, the moments of joy and laughter we have shared, and the love that binds us together within time and space. It is your unwavering support and encouragement that give me strength in the face of uncertainty, and for that, I am eternally grateful.\\nThough the sands of time may have long since buried the society that built this magnificent structure, I find solace in the knowledge that our love transcends the ages, a timeless testament to the power of the human spirit.\\nUntil we are reunited once more, know that you are always with me, guiding me through the labyrinth of life with your love and light.\\nWith all my heart,\\nYour devoted.\"\n",
    "print(\"Different words between letter 1 and letter 2:\")\n",
    "differences = myers_diff(letter_1, letter_2)\n",
    "for diff in differences:\n",
    "    print(diff)\n"
   ]
  },
  {
   "cell_type": "markdown",
   "metadata": {},
   "source": [
    "## Part 5: The Secret Message "
   ]
  },
  {
   "cell_type": "code",
   "execution_count": 12,
   "metadata": {},
   "outputs": [
    {
     "name": "stdout",
     "output_type": "stream",
     "text": [
      "Decoded Message: The statue is burried under a tree marked with x on Cluster Island\n"
     ]
    }
   ],
   "source": [
    "def decode(text, s):\n",
    "    result = \"\"\n",
    "\n",
    "    for char in text:\n",
    "        if char == \" \":\n",
    "            result += char\n",
    "            continue\n",
    "\n",
    "        if char.isupper():\n",
    "            result += chr((ord(char) - s - 65) % 26 + 65)\n",
    "\n",
    "        else:\n",
    "            result += chr((ord(char) - s - 97) % 26 + 97)\n",
    "\n",
    "    return result\n",
    "\n",
    "text = \"Wkh vwdwxh lv exuulhg xqghu d wuhh pdunhg zlwk a rq Foxvwhu Lvodqg\"\n",
    "s = 3\n",
    "print(\"Decoded Message: \" + decode(text, s))\n"
   ]
  },
  {
   "cell_type": "markdown",
   "metadata": {},
   "source": [
    "## Part 6: The Final Search of the Golden Statue of Bastet"
   ]
  },
  {
   "cell_type": "code",
   "execution_count": 13,
   "metadata": {},
   "outputs": [
    {
     "name": "stdout",
     "output_type": "stream",
     "text": [
      "Island Location    Land Condition                                Wild Animals                   Score\n",
      "-----------------  --------------------------------------------  ---------------------------  -------\n",
      "Middle             Inhabited with villages and agriculture area  No wild animals                  1\n",
      "South              Mountains and caves                           Some wild animals                3.3\n",
      "West               Sandy flat land                               Small but poisonous animals      3.7\n",
      "East               Thick woods and a lake                        Full of wild animals             4.1\n",
      "North              Swamp area                                    Full of wild animals             5\n",
      "\n",
      "The safest island to search is Middle island.\n"
     ]
    }
   ],
   "source": [
    "from tabulate import tabulate\n",
    "\n",
    "def weighted_scoring_island(island, weights):\n",
    "    # Higher score indicates a more dangerous island\n",
    "    land_condition_score = island['land_condition_score']\n",
    "    wild_animals_score = island['wild_animals_score']\n",
    "\n",
    "    score = (\n",
    "        weights['land_condition'] * land_condition_score +\n",
    "        weights['wild_animals'] * wild_animals_score\n",
    "    )\n",
    "\n",
    "    return score\n",
    "\n",
    "# Weight assumptions\n",
    "weights = {\n",
    "    'land_condition': 0.3,\n",
    "    'wild_animals': 0.7\n",
    "}\n",
    "\n",
    "# Input data as list of dictionaries\n",
    "islands = [\n",
    "    {\"location\": \"North\", \"land_condition\": \"Swamp area\", \"wild_animals\": \"Full of wild animals\", \"land_condition_score\": 5, \"wild_animals_score\": 5},\n",
    "    {\"location\": \"South\", \"land_condition\": \"Mountains and caves\", \"wild_animals\": \"Some wild animals\", \"land_condition_score\": 4, \"wild_animals_score\": 3},\n",
    "    {\"location\": \"East\", \"land_condition\": \"Thick woods and a lake\", \"wild_animals\": \"Full of wild animals\", \"land_condition_score\": 2, \"wild_animals_score\": 5},\n",
    "    {\"location\": \"West\", \"land_condition\": \"Sandy flat land\", \"wild_animals\": \"Small but poisonous animals\", \"land_condition_score\": 3, \"wild_animals_score\": 4},\n",
    "    {\"location\": \"Middle\", \"land_condition\": \"Inhabited with villages and agriculture area\", \"wild_animals\": \"No wild animals\", \"land_condition_score\": 1, \"wild_animals_score\": 1}\n",
    "]\n",
    "\n",
    "island_scores = []\n",
    "\n",
    "for island in islands:\n",
    "    island['total_score'] = weighted_scoring_island(island, weights)\n",
    "    island_scores.append([island['location'], island['land_condition'], island['wild_animals'], island['total_score']])\n",
    "\n",
    "island_scores.sort(key=lambda x: x[3])\n",
    "\n",
    "# Print the table\n",
    "print(tabulate(island_scores, headers=[\"Island Location\", \"Land Condition\", \"Wild Animals\", \"Score\"]))\n",
    "print(f\"\\nThe safest island to search is {island_scores[0][0]} island.\")\n"
   ]
  },
  {
   "cell_type": "markdown",
   "metadata": {},
   "source": [
    "## Part 7: Conclusion"
   ]
  },
  {
   "cell_type": "markdown",
   "metadata": {},
   "source": [
    "##### Algo Jones’ Adventure starts with finding the golden statue of Bastet in the chamber. He successfully visited all the chambers, moving through them in the sequence: 1, 6, 11, 12, 17, 22, 16, 21, 7, 8, 13, 18, 23, 24, 25, 9, 10, 15, 20, 19, 14, 5, 4, 3, 2. His journey revealed a total of 1000 combinations of clues and treasures. From these, he selected the most valuable items for his bag. The treasures included the Crown of the Pharaohs valued at $15 million and weighing 3 kg, the Golden Mask of Osiris worth $10 million and weighing 2 kg, and the Sceptre of Eternal Power, which was considered priceless but assumed to be worth $1000 million, weighing 5 kg. The total value of treasures in his bag was assumed to be $1025 million, and the total weight was 10 kg.\n",
    "\n",
    "##### Throughout his journey, Algo Jones also decoded differences in letters, uncovering terms like 'antediluvian' for 'ancient,' 'voyage' for 'journey,' 'within' for 'across,' and 'society' for 'civilization.' This helped him in understanding the clues better. The final decoded message revealed, \"The statue is buried under a tree marked with X on Cluster Island.\" He evaluated the safety of different locations on the island and determined that the Middle island was the safest because it was well-protected from natural hazards and had the least wildlife activity. \n",
    "\n",
    "##### After a thorough search, Algo Jones finally discovered the statue hidden in a remote cave on the island. The statue was a magnificent artifact, beautifully crafted and laden with historical significance. Algo Jones carefully retrieved the statue and prepared to return home, knowing that his discovery would enrich the world's understanding of ancient civilizations.\n",
    "\n",
    "##### Back home, Algo Jones presented his findings to the archaeological community, gaining recognition and acclaim for his remarkable discovery. The Golden Statue of Bastet found its place in a museum, where it was admired by people from around the world, showcasing the rich history and culture of ancient Egypt.\n",
    "\n",
    "##### Algo Jones' adventure came to a satisfying conclusion, but his thirst for knowledge and exploration remained unquenched. He set his sights on new adventures, eager to uncover more secrets of the past and share them with the world.\n"
   ]
  }
 ],
 "metadata": {
  "kernelspec": {
   "display_name": "Python 3",
   "language": "python",
   "name": "python3"
  },
  "language_info": {
   "codemirror_mode": {
    "name": "ipython",
    "version": 3
   },
   "file_extension": ".py",
   "mimetype": "text/x-python",
   "name": "python",
   "nbconvert_exporter": "python",
   "pygments_lexer": "ipython3",
   "version": "3.10.5"
  }
 },
 "nbformat": 4,
 "nbformat_minor": 2
}
